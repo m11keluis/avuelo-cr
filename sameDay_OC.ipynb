{
 "cells": [
  {
   "cell_type": "markdown",
   "id": "6d3da040-4a29-481f-b4ee-74027398e0b4",
   "metadata": {},
   "source": [
    "# AVUELO: Non-PACE Sensor Overpasses\n",
    "\n",
    "\n",
    "Description: Adapted [Explore Level-2 Ocean Color Data from the Moderate Resolution Imaging Spectroradiometer (MODIS)\n",
    "](https://oceancolor.gsfc.nasa.gov/resources/docs/tutorials/notebooks/modis-explore-l2/) for AVUELO Non-PACE overpasses\n",
    "\n",
    "Written by Kelly Luis (kelly.m.luis@jpl.nasa.gov) on February 17, 2025"
   ]
  },
  {
   "cell_type": "code",
   "execution_count": 7,
   "id": "3d6c625e-866a-4d72-b95b-7dd64955a8b3",
   "metadata": {},
   "outputs": [],
   "source": [
    "import csv\n",
    "import os\n",
    "import pathlib\n",
    "\n",
    "import cartopy.crs as ccrs\n",
    "import earthaccess\n",
    "import xarray as xr\n",
    "import matplotlib.pyplot as plt\n",
    "from datetime import datetime\n"
   ]
  },
  {
   "cell_type": "code",
   "execution_count": 3,
   "id": "5c67400d-718c-40fc-9c7b-7f9604ef8761",
   "metadata": {},
   "outputs": [
    {
     "name": "stdin",
     "output_type": "stream",
     "text": [
      "Enter your Earthdata Login username:  \n",
      "Enter your Earthdata password:  ········\n"
     ]
    },
    {
     "data": {
      "text/plain": [
       "<earthaccess.auth.Auth at 0x7fe741f13490>"
      ]
     },
     "execution_count": 3,
     "metadata": {},
     "output_type": "execute_result"
    }
   ],
   "source": [
    "earthaccess.login(persist=True)"
   ]
  },
  {
   "cell_type": "code",
   "execution_count": 4,
   "id": "a55f5021-03e6-4e4a-b4a8-a5c3d03ac86c",
   "metadata": {},
   "outputs": [],
   "source": [
    "# Check Sensor List\n",
    "sensors = {'viirsn':'VIIRSN_L2_OC_NRT',\n",
    "           'olcis3a':'OLCIS3A_L2_EFR_OC_NRT',\n",
    "           'olcis3b':'OLCIS3B_L2_EFR_OC_NRT',\n",
    "           'pace': 'PACE_OCI_L2_BGC_NRT',\n",
    "           'viirsj2': 'VIIRSJ2_L2_OC_NRT',\n",
    "           'viirsj1': 'VIIRSJ1_L2_OC_NRT',\n",
    "           'modisa': 'MODISA_L2_OC_NRT'}\n",
    "\n",
    "# Get today's date and format it\n",
    "today_date = datetime.today().strftime('%Y-%m-%d')\n",
    "tspan = (today_date, today_date)\n",
    "bbox=(-84.951187, 9.645435, -84.653903, 9.954900)"
   ]
  },
  {
   "cell_type": "code",
   "execution_count": 6,
   "id": "ed3fee11-9947-42fd-a2ec-2a118d3080b8",
   "metadata": {},
   "outputs": [
    {
     "name": "stdout",
     "output_type": "stream",
     "text": [
      "Results for viirsn (VIIRSN_L2_OC_NRT):\n",
      "[]\n",
      "--------------------------------------------------\n",
      "Results for olcis3a (OLCIS3A_L2_EFR_OC_NRT):\n",
      "[]\n",
      "--------------------------------------------------\n",
      "Results for olcis3b (OLCIS3B_L2_EFR_OC_NRT):\n",
      "[]\n",
      "--------------------------------------------------\n",
      "Results for pace (PACE_OCI_L2_BGC_NRT):\n",
      "[Collection: {'Version': '3.0', 'ShortName': 'PACE_OCI_L2_BGC_NRT'}\n",
      "Spatial coverage: {'HorizontalSpatialDomain': {'Geometry': {'GPolygons': [{'Boundary': {'Points': [{'Latitude': 14.12882, 'Longitude': -65.80718}, {'Latitude': 9.02838, 'Longitude': -89.92632}, {'Latitude': -14.10494, 'Longitude': -85.17632}, {'Latitude': -8.99002, 'Longitude': -60.96164}, {'Latitude': 14.12882, 'Longitude': -65.80718}]}}]}}}\n",
      "Temporal coverage: {'RangeDateTime': {'BeginningDateTime': '2025-02-17T17:59:23Z', 'EndingDateTime': '2025-02-17T18:04:22Z'}}\n",
      "Size(MB): 11.46003246307373\n",
      "Data: ['https://obdaac-tea.earthdatacloud.nasa.gov/ob-cumulus-prod-public/PACE_OCI.20250217T175923.L2.OC_BGC.V3_0.NRT.nc']]\n",
      "--------------------------------------------------\n",
      "Results for viirsj2 (VIIRSJ2_L2_OC_NRT):\n",
      "[Collection: {'ShortName': 'VIIRSJ2_L2_OC_NRT', 'Version': 'R2022.0'}\n",
      "Spatial coverage: {'HorizontalSpatialDomain': {'Geometry': {'GPolygons': [{'Boundary': {'Points': [{'Latitude': 18.80291, 'Longitude': -78.25208}, {'Latitude': 14.57691, 'Longitude': -106.10365}, {'Latitude': -6.11373, 'Longitude': -100.94987}, {'Latitude': -2.03623, 'Longitude': -74.11755}, {'Latitude': 18.80291, 'Longitude': -78.25208}]}}]}}}\n",
      "Temporal coverage: {'RangeDateTime': {'BeginningDateTime': '2025-02-17T19:18:00Z', 'EndingDateTime': '2025-02-17T19:23:59Z'}}\n",
      "Size(MB): 91.45388412475586\n",
      "Data: ['https://oceandata.sci.gsfc.nasa.gov/cmr/getfile/JPSS2_VIIRS.20250217T191800.L2.OC.NRT.nc']]\n",
      "--------------------------------------------------\n",
      "Results for viirsj1 (VIIRSJ1_L2_OC_NRT):\n",
      "[Collection: {'ShortName': 'VIIRSJ1_L2_OC_NRT', 'Version': 'R2022.0'}\n",
      "Spatial coverage: {'HorizontalSpatialDomain': {'Geometry': {'GPolygons': [{'Boundary': {'Points': [{'Latitude': 13.60891, 'Longitude': -64.60033}, {'Latitude': 9.4721, 'Longitude': -91.99603}, {'Latitude': -11.2571, 'Longitude': -87.33704}, {'Latitude': -7.12466, 'Longitude': -60.0452}, {'Latitude': 13.60891, 'Longitude': -64.60033}]}}]}}}\n",
      "Temporal coverage: {'RangeDateTime': {'EndingDateTime': '2025-02-17T18:29:59Z', 'BeginningDateTime': '2025-02-17T18:24:00Z'}}\n",
      "Size(MB): 57.56743049621582\n",
      "Data: ['https://oceandata.sci.gsfc.nasa.gov/cmr/getfile/JPSS1_VIIRS.20250217T182400.L2.OC.NRT.nc']]\n",
      "--------------------------------------------------\n",
      "Results for modisa (MODISA_L2_OC_NRT):\n",
      "[Collection: {'ShortName': 'MODISA_L2_OC_NRT', 'Version': 'R2022.0'}\n",
      "Spatial coverage: {'HorizontalSpatialDomain': {'Geometry': {'GPolygons': [{'Boundary': {'Points': [{'Latitude': 24.41835, 'Longitude': -75.96026}, {'Latitude': 21.22015, 'Longitude': -97.88443}, {'Latitude': 3.6587, 'Longitude': -93.13003}, {'Latitude': 6.62419, 'Longitude': -72.81255}, {'Latitude': 24.41835, 'Longitude': -75.96026}]}}]}}}\n",
      "Temporal coverage: {'RangeDateTime': {'BeginningDateTime': '2025-02-17T20:00:01Z', 'EndingDateTime': '2025-02-17T20:04:59Z'}}\n",
      "Size(MB): 25.373489379882812\n",
      "Data: ['https://oceandata.sci.gsfc.nasa.gov/cmr/getfile/AQUA_MODIS.20250217T200001.L2.OC.NRT.nc']]\n",
      "--------------------------------------------------\n"
     ]
    }
   ],
   "source": [
    "# Loop through all sensors\n",
    "for sensor_name, short_name in sensors.items():\n",
    "    results = earthaccess.search_data(\n",
    "        short_name=short_name,\n",
    "        temporal=tspan,\n",
    "        bounding_box=bbox,\n",
    "    )\n",
    "    print(f\"Results for {sensor_name} ({short_name}):\")\n",
    "    print(results)\n",
    "    print(\"-\" * 50)"
   ]
  }
 ],
 "metadata": {
  "kernelspec": {
   "display_name": "Python 3 (ipykernel)",
   "language": "python",
   "name": "python3"
  },
  "language_info": {
   "codemirror_mode": {
    "name": "ipython",
    "version": 3
   },
   "file_extension": ".py",
   "mimetype": "text/x-python",
   "name": "python",
   "nbconvert_exporter": "python",
   "pygments_lexer": "ipython3",
   "version": "3.11.11"
  }
 },
 "nbformat": 4,
 "nbformat_minor": 5
}
