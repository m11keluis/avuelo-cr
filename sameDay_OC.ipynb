{
 "cells": [
  {
   "cell_type": "markdown",
   "id": "6d3da040-4a29-481f-b4ee-74027398e0b4",
   "metadata": {},
   "source": [
    "# AVUELO: Non-PACE Sensor Overpasses\n",
    "\n",
    "\n",
    "Description: Adapted [Explore Level-2 Ocean Color Data from the Moderate Resolution Imaging Spectroradiometer (MODIS)\n",
    "](https://oceancolor.gsfc.nasa.gov/resources/docs/tutorials/notebooks/modis-explore-l2/) for AVUELO Non-PACE overpasses\n",
    "\n",
    "Written by Kelly Luis (kelly.m.luis@jpl.nasa.gov) on February 17, 2025"
   ]
  },
  {
   "cell_type": "code",
   "execution_count": 12,
   "id": "3d6c625e-866a-4d72-b95b-7dd64955a8b3",
   "metadata": {},
   "outputs": [],
   "source": [
    "import csv\n",
    "import os\n",
    "import pathlib\n",
    "\n",
    "import cartopy.crs as ccrs\n",
    "import earthaccess\n",
    "import xarray as xr\n",
    "import matplotlib.pyplot as plt\n",
    "from datetime import datetime\n"
   ]
  },
  {
   "cell_type": "code",
   "execution_count": 13,
   "id": "5c67400d-718c-40fc-9c7b-7f9604ef8761",
   "metadata": {},
   "outputs": [
    {
     "data": {
      "text/plain": [
       "<earthaccess.auth.Auth at 0x7fc15ae6ac50>"
      ]
     },
     "execution_count": 13,
     "metadata": {},
     "output_type": "execute_result"
    }
   ],
   "source": [
    "earthaccess.login(persist=True)"
   ]
  },
  {
   "cell_type": "code",
   "execution_count": 14,
   "id": "a55f5021-03e6-4e4a-b4a8-a5c3d03ac86c",
   "metadata": {},
   "outputs": [],
   "source": [
    "# Check Sensor List\n",
    "sensors = {'viirsn':'VIIRSN_L2_OC_NRT',\n",
    "           'olcis3a':'OLCIS3A_L2_EFR_OC_NRT',\n",
    "           'olcis3b':'OLCIS3B_L2_EFR_OC_NRT',\n",
    "           'pace': 'PACE_OCI_L2_BGC_NRT',\n",
    "           'viirsj2': 'VIIRSJ2_L2_OC_NRT',\n",
    "           'viirsj1': 'VIIRSJ1_L2_OC_NRT',\n",
    "           'modisa': 'MODISA_L2_OC_NRT'}\n",
    "\n",
    "# Get today's date and format it\n",
    "today_date = datetime.today().strftime('%Y-%m-%d')\n",
    "tspan = (today_date, today_date)\n",
    "#tspan = ('2025-02-17', '2025-02-17')\n",
    "bbox=(-84.951187, 9.645435, -84.653903, 9.954900)"
   ]
  },
  {
   "cell_type": "code",
   "execution_count": 15,
   "id": "ed3fee11-9947-42fd-a2ec-2a118d3080b8",
   "metadata": {},
   "outputs": [
    {
     "name": "stdout",
     "output_type": "stream",
     "text": [
      "Results for viirsn (VIIRSN_L2_OC_NRT):\n",
      "[]\n",
      "--------------------------------------------------\n",
      "Results for olcis3a (OLCIS3A_L2_EFR_OC_NRT):\n",
      "[]\n",
      "--------------------------------------------------\n",
      "Results for olcis3b (OLCIS3B_L2_EFR_OC_NRT):\n",
      "[]\n",
      "--------------------------------------------------\n",
      "Results for pace (PACE_OCI_L2_BGC_NRT):\n",
      "[Collection: {'ShortName': 'PACE_OCI_L2_BGC_NRT', 'Version': '3.0'}\n",
      "Spatial coverage: {'HorizontalSpatialDomain': {'Geometry': {'GPolygons': [{'Boundary': {'Points': [{'Latitude': 14.50219, 'Longitude': -74.73515}, {'Latitude': 9.39925, 'Longitude': -98.88442}, {'Latitude': -8.39359, 'Longitude': -95.0526}, {'Latitude': -3.34284, 'Longitude': -71.18213}, {'Latitude': 14.50219, 'Longitude': -74.73515}]}}]}}}\n",
      "Temporal coverage: {'RangeDateTime': {'EndingDateTime': '2025-02-18T18:39:56Z', 'BeginningDateTime': '2025-02-18T18:34:57Z'}}\n",
      "Size(MB): 19.072657585144043\n",
      "Data: ['https://obdaac-tea.earthdatacloud.nasa.gov/ob-cumulus-prod-public/PACE_OCI.20250218T183457.L2.OC_BGC.V3_0.NRT.nc']]\n",
      "--------------------------------------------------\n",
      "Results for viirsj2 (VIIRSJ2_L2_OC_NRT):\n",
      "[]\n",
      "--------------------------------------------------\n",
      "Results for viirsj1 (VIIRSJ1_L2_OC_NRT):\n",
      "[]\n",
      "--------------------------------------------------\n",
      "Results for modisa (MODISA_L2_OC_NRT):\n",
      "[Collection: {'Version': 'R2022.0', 'ShortName': 'MODISA_L2_OC_NRT'}\n",
      "Spatial coverage: {'HorizontalSpatialDomain': {'Geometry': {'GPolygons': [{'Boundary': {'Points': [{'Latitude': 26.17965, 'Longitude': -86.08038}, {'Latitude': 22.94034, 'Longitude': -108.29748}, {'Latitude': 5.40695, 'Longitude': -103.38696}, {'Latitude': 8.38125, 'Longitude': -83.01329}, {'Latitude': 26.17965, 'Longitude': -86.08038}]}}]}}}\n",
      "Temporal coverage: {'RangeDateTime': {'BeginningDateTime': '2025-02-18T20:40:00Z', 'EndingDateTime': '2025-02-18T20:44:59Z'}}\n",
      "Size(MB): 28.337388038635254\n",
      "Data: ['https://oceandata.sci.gsfc.nasa.gov/cmr/getfile/AQUA_MODIS.20250218T204000.L2.OC.NRT.nc']]\n",
      "--------------------------------------------------\n"
     ]
    }
   ],
   "source": [
    "# Loop through all sensors\n",
    "for sensor_name, short_name in sensors.items():\n",
    "    results = earthaccess.search_data(\n",
    "        short_name=short_name,\n",
    "        temporal=tspan,\n",
    "        bounding_box=bbox,\n",
    "    )\n",
    "    print(f\"Results for {sensor_name} ({short_name}):\")\n",
    "    print(results)\n",
    "    print(\"-\" * 50)"
   ]
  }
 ],
 "metadata": {
  "kernelspec": {
   "display_name": "Python 3 (ipykernel)",
   "language": "python",
   "name": "python3"
  },
  "language_info": {
   "codemirror_mode": {
    "name": "ipython",
    "version": 3
   },
   "file_extension": ".py",
   "mimetype": "text/x-python",
   "name": "python",
   "nbconvert_exporter": "python",
   "pygments_lexer": "ipython3",
   "version": "3.11.11"
  }
 },
 "nbformat": 4,
 "nbformat_minor": 5
}
