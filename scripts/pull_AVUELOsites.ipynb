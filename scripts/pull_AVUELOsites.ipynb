{
 "cells": [
  {
   "cell_type": "markdown",
   "id": "43d42aa9-a1d2-4dfd-86a4-ef8982c51991",
   "metadata": {},
   "source": [
    "# PACE Spectra Extraction\n",
    "\n",
    "**Description**: This notebook demonstrates how to extract PACE remote sensing reflectances at sites of interest via cloud access. "
   ]
  },
  {
   "cell_type": "code",
   "execution_count": 1,
   "id": "8f3afd04-c847-4dba-b19d-672e46d59242",
   "metadata": {},
   "outputs": [],
   "source": [
    "# Load Modules\n",
    "import earthaccess\n",
    "import xarray as xr\n",
    "from xarray.backends.api import open_datatree\n",
    "import matplotlib.pyplot as plt\n",
    "import cartopy\n",
    "import numpy as np\n",
    "import h5netcdf\n",
    "from IPython.display import JSON\n",
    "import geopandas as gpd\n",
    "from shapely.geometry import Point, LineString\n",
    "import re\n",
    "import pandas as pd\n",
    "import seaborn as sns\n",
    "import cartopy.crs as ccrs\n",
    "import pace_func\n",
    "import pandas as pd\n",
    "import os\n",
    "import glob"
   ]
  },
  {
   "cell_type": "code",
   "execution_count": 2,
   "id": "d88c823b-0ef0-46b8-bff4-25409d7a57ed",
   "metadata": {},
   "outputs": [
    {
     "name": "stdin",
     "output_type": "stream",
     "text": [
      "Enter your Earthdata Login username:  m11keluis\n",
      "Enter your Earthdata password:  ········\n",
      "Enter your Earthdata Login username:  m11keluis\n",
      "Enter your Earthdata password:  ········\n"
     ]
    }
   ],
   "source": [
    "# Authentification\n",
    "auth = earthaccess.Auth()\n",
    "auth.login(strategy=\"interactive\", persist=True)\n",
    "print('Authenticated:' + str(auth.authenticated))"
   ]
  },
  {
   "cell_type": "markdown",
   "id": "e2427f90-8160-431c-bc88-7f2005546f77",
   "metadata": {},
   "source": [
    "# Search for PACE Data in Region of Interest"
   ]
  },
  {
   "cell_type": "code",
   "execution_count": 10,
   "id": "93eba67f-0222-47b2-ab5a-b3bf38d763ef",
   "metadata": {},
   "outputs": [
    {
     "name": "stdout",
     "output_type": "stream",
     "text": [
      "[Collection: {'Version': '3.0', 'ShortName': 'PACE_OCI_L2_AOP_NRT'}\n",
      "Spatial coverage: {'HorizontalSpatialDomain': {'Geometry': {'GPolygons': [{'Boundary': {'Points': [{'Latitude': 14.12882, 'Longitude': -65.80718}, {'Latitude': 9.02838, 'Longitude': -89.92632}, {'Latitude': -14.10494, 'Longitude': -85.17632}, {'Latitude': -8.99002, 'Longitude': -60.96164}, {'Latitude': 14.12882, 'Longitude': -65.80718}]}}]}}}\n",
      "Temporal coverage: {'RangeDateTime': {'EndingDateTime': '2025-02-17T18:04:22Z', 'BeginningDateTime': '2025-02-17T17:59:23Z'}}\n",
      "Size(MB): 75.64469909667969\n",
      "Data: ['https://obdaac-tea.earthdatacloud.nasa.gov/ob-cumulus-prod-public/PACE_OCI.20250217T175923.L2.OC_AOP.V3_0.NRT.nc'], Collection: {'ShortName': 'PACE_OCI_L2_AOP_NRT', 'Version': '3.0'}\n",
      "Spatial coverage: {'HorizontalSpatialDomain': {'Geometry': {'GPolygons': [{'Boundary': {'Points': [{'Latitude': 14.50219, 'Longitude': -74.73515}, {'Latitude': 9.39925, 'Longitude': -98.88442}, {'Latitude': -8.39359, 'Longitude': -95.0526}, {'Latitude': -3.34284, 'Longitude': -71.18213}, {'Latitude': 14.50219, 'Longitude': -74.73515}]}}]}}}\n",
      "Temporal coverage: {'RangeDateTime': {'BeginningDateTime': '2025-02-18T18:34:57Z', 'EndingDateTime': '2025-02-18T18:39:56Z'}}\n",
      "Size(MB): 265.7798309326172\n",
      "Data: ['https://obdaac-tea.earthdatacloud.nasa.gov/ob-cumulus-prod-public/PACE_OCI.20250218T183457.L2.OC_AOP.V3_0.NRT.nc'], Collection: {'ShortName': 'PACE_OCI_L2_AOP_NRT', 'Version': '3.0'}\n",
      "Spatial coverage: {'HorizontalSpatialDomain': {'Geometry': {'GPolygons': [{'Boundary': {'Points': [{'Latitude': 14.87654, 'Longitude': -83.66248}, {'Latitude': 9.77111, 'Longitude': -107.84437}, {'Latitude': -13.35495, 'Longitude': -103.02755}, {'Latitude': -8.24891, 'Longitude': -78.88759}, {'Latitude': 14.87654, 'Longitude': -83.66248}]}}]}}}\n",
      "Temporal coverage: {'RangeDateTime': {'BeginningDateTime': '2025-02-19T19:10:31Z', 'EndingDateTime': '2025-02-19T19:15:30Z'}}\n",
      "Size(MB): 368.5798387527466\n",
      "Data: ['https://obdaac-tea.earthdatacloud.nasa.gov/ob-cumulus-prod-public/PACE_OCI.20250219T191031.L2.OC_AOP.V3_0.NRT.nc'], Collection: {'ShortName': 'PACE_OCI_L2_AOP_NRT', 'Version': '3.0'}\n",
      "Spatial coverage: {'HorizontalSpatialDomain': {'Geometry': {'GPolygons': [{'Boundary': {'Points': [{'Latitude': 15.25492, 'Longitude': -67.9957}, {'Latitude': 10.14467, 'Longitude': -92.21857}, {'Latitude': -7.63327, 'Longitude': -88.33074}, {'Latitude': -2.58275, 'Longitude': -64.49333}, {'Latitude': 15.25492, 'Longitude': -67.9957}]}}]}}}\n",
      "Temporal coverage: {'RangeDateTime': {'BeginningDateTime': '2025-02-20T18:07:43Z', 'EndingDateTime': '2025-02-20T18:12:42Z'}}\n",
      "Size(MB): 89.06679439544678\n",
      "Data: ['https://obdaac-tea.earthdatacloud.nasa.gov/ob-cumulus-prod-public/PACE_OCI.20250220T180743.L2.OC_AOP.V3_0.NRT.nc'], Collection: {'Version': '3.0', 'ShortName': 'PACE_OCI_L2_AOP_NRT'}\n",
      "Spatial coverage: {'HorizontalSpatialDomain': {'Geometry': {'GPolygons': [{'Boundary': {'Points': [{'Latitude': 15.66204, 'Longitude': -76.92538}, {'Latitude': 10.54858, 'Longitude': -101.18575}, {'Latitude': -12.56949, 'Longitude': -96.29613}, {'Latitude': -7.47068, 'Longitude': -72.22128}, {'Latitude': 15.66204, 'Longitude': -76.92538}]}}]}}}\n",
      "Temporal coverage: {'RangeDateTime': {'EndingDateTime': '2025-02-21T18:48:16Z', 'BeginningDateTime': '2025-02-21T18:43:17Z'}}\n",
      "Size(MB): 329.8612279891968\n",
      "Data: ['https://obdaac-tea.earthdatacloud.nasa.gov/ob-cumulus-prod-public/PACE_OCI.20250221T184317.L2.OC_AOP.V3_0.NRT.nc']]\n"
     ]
    },
    {
     "ename": "AttributeError",
     "evalue": "'NoneType' object has no attribute 'open'",
     "output_type": "error",
     "traceback": [
      "\u001b[0;31m---------------------------------------------------------------------------\u001b[0m",
      "\u001b[0;31mAttributeError\u001b[0m                            Traceback (most recent call last)",
      "Cell \u001b[0;32mIn[10], line 13\u001b[0m\n\u001b[1;32m      6\u001b[0m results \u001b[38;5;241m=\u001b[39m earthaccess\u001b[38;5;241m.\u001b[39msearch_data(\n\u001b[1;32m      7\u001b[0m     short_name\u001b[38;5;241m=\u001b[39m\u001b[38;5;124m\"\u001b[39m\u001b[38;5;124mPACE_OCI_L2_AOP_NRT\u001b[39m\u001b[38;5;124m\"\u001b[39m,\n\u001b[1;32m      8\u001b[0m     temporal\u001b[38;5;241m=\u001b[39mtspan,\n\u001b[1;32m      9\u001b[0m     bounding_box\u001b[38;5;241m=\u001b[39mbbox,\n\u001b[1;32m     10\u001b[0m )\n\u001b[1;32m     12\u001b[0m \u001b[38;5;28mprint\u001b[39m(results)\n\u001b[0;32m---> 13\u001b[0m paths \u001b[38;5;241m=\u001b[39m \u001b[43mearthaccess\u001b[49m\u001b[38;5;241;43m.\u001b[39;49m\u001b[43mopen\u001b[49m\u001b[43m(\u001b[49m\u001b[43mresults\u001b[49m\u001b[43m)\u001b[49m\n",
      "File \u001b[0;32m/srv/conda/envs/notebook/lib/python3.11/site-packages/earthaccess/api.py:276\u001b[0m, in \u001b[0;36mopen\u001b[0;34m(granules, provider, pqdm_kwargs)\u001b[0m\n\u001b[1;32m    256\u001b[0m \u001b[38;5;28;01mdef\u001b[39;00m \u001b[38;5;21mopen\u001b[39m(\n\u001b[1;32m    257\u001b[0m     granules: Union[List[\u001b[38;5;28mstr\u001b[39m], List[DataGranule]],\n\u001b[1;32m    258\u001b[0m     provider: Optional[\u001b[38;5;28mstr\u001b[39m] \u001b[38;5;241m=\u001b[39m \u001b[38;5;28;01mNone\u001b[39;00m,\n\u001b[1;32m    259\u001b[0m     \u001b[38;5;241m*\u001b[39m,\n\u001b[1;32m    260\u001b[0m     pqdm_kwargs: Optional[Mapping[\u001b[38;5;28mstr\u001b[39m, Any]] \u001b[38;5;241m=\u001b[39m \u001b[38;5;28;01mNone\u001b[39;00m,\n\u001b[1;32m    261\u001b[0m ) \u001b[38;5;241m-\u001b[39m\u001b[38;5;241m>\u001b[39m List[AbstractFileSystem]:\n\u001b[1;32m    262\u001b[0m \u001b[38;5;250m    \u001b[39m\u001b[38;5;124;03m\"\"\"Returns a list of file-like objects that can be used to access files\u001b[39;00m\n\u001b[1;32m    263\u001b[0m \u001b[38;5;124;03m    hosted on S3 or HTTPS by third party libraries like xarray.\u001b[39;00m\n\u001b[1;32m    264\u001b[0m \n\u001b[0;32m   (...)\u001b[0m\n\u001b[1;32m    274\u001b[0m \u001b[38;5;124;03m        A list of \"file pointers\" to remote (i.e. s3 or https) files.\u001b[39;00m\n\u001b[1;32m    275\u001b[0m \u001b[38;5;124;03m    \"\"\"\u001b[39;00m\n\u001b[0;32m--> 276\u001b[0m     \u001b[38;5;28;01mreturn\u001b[39;00m \u001b[43mearthaccess\u001b[49m\u001b[38;5;241;43m.\u001b[39;49m\u001b[43m__store__\u001b[49m\u001b[38;5;241;43m.\u001b[39;49m\u001b[43mopen\u001b[49m(\n\u001b[1;32m    277\u001b[0m         granules\u001b[38;5;241m=\u001b[39mgranules,\n\u001b[1;32m    278\u001b[0m         provider\u001b[38;5;241m=\u001b[39m_normalize_location(provider),\n\u001b[1;32m    279\u001b[0m         pqdm_kwargs\u001b[38;5;241m=\u001b[39mpqdm_kwargs,\n\u001b[1;32m    280\u001b[0m     )\n",
      "\u001b[0;31mAttributeError\u001b[0m: 'NoneType' object has no attribute 'open'"
     ]
    }
   ],
   "source": [
    "# PACE Search Criteria\n",
    "tspan = (\"2025-02-17\", \"2025-02-21\")\n",
    "bbox=(-84.951187, 9.645435, -84.653903, 9.954900)\n",
    "\n",
    "# Search for PACE Imagery\n",
    "results = earthaccess.search_data(\n",
    "    short_name=\"PACE_OCI_L2_AOP_NRT\",\n",
    "    temporal=tspan,\n",
    "    bounding_box=bbox,\n",
    ")\n",
    "\n",
    "# Open Results\n",
    "paths = earthaccess.open(results)"
   ]
  },
  {
   "cell_type": "markdown",
   "id": "a38849ea-aebb-4a47-9792-1ca10b45750f",
   "metadata": {},
   "source": [
    "## Load In Situ Stations"
   ]
  },
  {
   "cell_type": "code",
   "execution_count": 9,
   "id": "8abc1a05-201a-49e0-9658-fb839f284584",
   "metadata": {},
   "outputs": [],
   "source": [
    "# Load In Situ Sites\n",
    "df = pd.read_csv('../data/cast_info.csv').dropna()\n",
    "df['timestamp'] = pd.to_datetime(df['timestamp'])"
   ]
  },
  {
   "cell_type": "markdown",
   "id": "2b5a1679-2988-4e18-b969-80a90fcc5a36",
   "metadata": {},
   "source": [
    "## Spectra Loop"
   ]
  },
  {
   "cell_type": "code",
   "execution_count": 1,
   "id": "16ce4afb-22a9-4661-a19e-3b527cddc930",
   "metadata": {},
   "outputs": [
    {
     "ename": "NameError",
     "evalue": "name 'os' is not defined",
     "output_type": "error",
     "traceback": [
      "\u001b[0;31m---------------------------------------------------------------------------\u001b[0m",
      "\u001b[0;31mNameError\u001b[0m                                 Traceback (most recent call last)",
      "Cell \u001b[0;32mIn[1], line 3\u001b[0m\n\u001b[1;32m      1\u001b[0m \u001b[38;5;66;03m# Extract Specta\u001b[39;00m\n\u001b[1;32m      2\u001b[0m output_dir \u001b[38;5;241m=\u001b[39m \u001b[38;5;124m\"\u001b[39m\u001b[38;5;124mspectra_results\u001b[39m\u001b[38;5;124m\"\u001b[39m\n\u001b[0;32m----> 3\u001b[0m \u001b[43mos\u001b[49m\u001b[38;5;241m.\u001b[39mmakedirs(output_dir, exist_ok\u001b[38;5;241m=\u001b[39m\u001b[38;5;28;01mTrue\u001b[39;00m)  \u001b[38;5;66;03m# Ensure output directory exists\u001b[39;00m\n\u001b[1;32m      5\u001b[0m \u001b[38;5;28;01mfor\u001b[39;00m temp_path \u001b[38;5;129;01min\u001b[39;00m paths:\n\u001b[1;32m      6\u001b[0m     \u001b[38;5;28;01mtry\u001b[39;00m:\n\u001b[1;32m      7\u001b[0m         \u001b[38;5;66;03m# Extract filename for saving\u001b[39;00m\n",
      "\u001b[0;31mNameError\u001b[0m: name 'os' is not defined"
     ]
    }
   ],
   "source": [
    "# Extract Specta\n",
    "output_dir = \"spectra_results\"\n",
    "os.makedirs(output_dir, exist_ok=True)  # Ensure output directory exists\n",
    "\n",
    "for temp_path in paths:\n",
    "    try:\n",
    "        # Extract filename for saving\n",
    "        match = re.search(r\"(PACE_OCI\\.[^/,]+\\.nc)\", temp_path.details['name'])\n",
    "        if not match:\n",
    "            print(f\"Skipping: Could not extract filename from {temp_path}\")\n",
    "            continue\n",
    "        \n",
    "        filename = match.group(1)\n",
    "        output_path = os.path.join(output_dir, f\"{filename}.csv\")\n",
    "\n",
    "        # **Skip if file already exists**\n",
    "        if os.path.exists(output_path):\n",
    "            print(f\"Skipping {filename}, already processed.\")\n",
    "            continue\n",
    "\n",
    "        # Process the file if it hasn't been saved\n",
    "        dataset = process_l2(temp_path)\n",
    "        wl_dataset = xr.open_dataset(temp_path, group=\"sensor_band_parameters\")\n",
    "        wl = wl_dataset['wavelength_3d'].values\n",
    "        date = re.search(r\"\\d{8}\", filename).group()\n",
    "\n",
    "        site_df_list = []\n",
    "        for site_name, data in sites_df.iterrows():\n",
    "            nearest_rrs = target_spectra(dataset, data['latitude'], data['longitude'])\n",
    "            site_df = pd.DataFrame({\n",
    "                \"cast\": site_name,\n",
    "                \"wl\": wl,\n",
    "                \"date\": date,\n",
    "                \"filename\": filename,\n",
    "                \"rrs\": nearest_rrs.values\n",
    "            })\n",
    "            site_df_list.append(site_df)\n",
    "\n",
    "        # Save processed data as CSV\n",
    "        combined_df = pd.concat(site_df_list)\n",
    "        combined_df.to_csv(output_path, index=False)\n",
    "        print(f\"Saved: {output_path}\")\n",
    "\n",
    "    except Exception as e:\n",
    "        print(f\"Error processing {temp_path}: {e}\")"
   ]
  }
 ],
 "metadata": {
  "kernelspec": {
   "display_name": "Python 3 (ipykernel)",
   "language": "python",
   "name": "python3"
  },
  "language_info": {
   "codemirror_mode": {
    "name": "ipython",
    "version": 3
   },
   "file_extension": ".py",
   "mimetype": "text/x-python",
   "name": "python",
   "nbconvert_exporter": "python",
   "pygments_lexer": "ipython3",
   "version": "3.11.11"
  }
 },
 "nbformat": 4,
 "nbformat_minor": 5
}
