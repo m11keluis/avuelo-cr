{
 "cells": [
  {
   "cell_type": "markdown",
   "id": "6d3da040-4a29-481f-b4ee-74027398e0b4",
   "metadata": {},
   "source": [
    "# AVUELO: Ocean Color Sensor Overpasses\n",
    "\n",
    "Description: Adapted [Explore Level-2 Ocean Color Data from the Moderate Resolution Imaging Spectroradiometer (MODIS)\n",
    "](https://oceancolor.gsfc.nasa.gov/resources/docs/tutorials/notebooks/modis-explore-l2/) to check ocean color near real time uploads\n",
    "\n",
    "Written by Kelly Luis (kelly.m.luis@jpl.nasa.gov) on February 17, 2025"
   ]
  },
  {
   "cell_type": "code",
   "execution_count": 2,
   "id": "3d6c625e-866a-4d72-b95b-7dd64955a8b3",
   "metadata": {},
   "outputs": [],
   "source": [
    "# Load Modules\n",
    "import csv\n",
    "import os\n",
    "import pathlib\n",
    "import cartopy.crs as ccrs\n",
    "import earthaccess\n",
    "import xarray as xr\n",
    "import matplotlib.pyplot as plt\n",
    "from datetime import datetime"
   ]
  },
  {
   "cell_type": "code",
   "execution_count": 5,
   "id": "5c67400d-718c-40fc-9c7b-7f9604ef8761",
   "metadata": {},
   "outputs": [
    {
     "name": "stdin",
     "output_type": "stream",
     "text": [
      "Enter your Earthdata Login username:  m11keluis\n",
      "Enter your Earthdata password:  ········\n"
     ]
    },
    {
     "name": "stdout",
     "output_type": "stream",
     "text": [
      "Authenticated:True\n"
     ]
    }
   ],
   "source": [
    "# Authentification\n",
    "auth = earthaccess.Auth()\n",
    "auth.login(strategy=\"interactive\", persist=True)\n",
    "print('Authenticated:' + str(auth.authenticated))"
   ]
  },
  {
   "cell_type": "code",
   "execution_count": 6,
   "id": "a55f5021-03e6-4e4a-b4a8-a5c3d03ac86c",
   "metadata": {},
   "outputs": [],
   "source": [
    "# Check Sensor List\n",
    "sensors = {'viirsn':'VIIRSN_L2_OC_NRT',\n",
    "           'olcis3a':'OLCIS3A_L2_EFR_OC_NRT',\n",
    "           'olcis3b':'OLCIS3B_L2_EFR_OC_NRT',\n",
    "           'pace': 'PACE_OCI_L2_BGC_NRT',\n",
    "           'viirsj2': 'VIIRSJ2_L2_OC_NRT',\n",
    "           'viirsj1': 'VIIRSJ1_L2_OC_NRT',\n",
    "           'modisa': 'MODISA_L2_OC_NRT'}\n",
    "\n",
    "# Get today's date and format it\n",
    "today_date = datetime.today().strftime('%Y-%m-%d')\n",
    "tspan = (today_date, today_date)\n",
    "bbox=(-85, 8.5, -84.5, 10)"
   ]
  },
  {
   "cell_type": "code",
   "execution_count": 7,
   "id": "ed3fee11-9947-42fd-a2ec-2a118d3080b8",
   "metadata": {},
   "outputs": [
    {
     "name": "stdout",
     "output_type": "stream",
     "text": [
      "Results for viirsn (VIIRSN_L2_OC_NRT):\n",
      "[]\n",
      "--------------------------------------------------\n",
      "Results for olcis3a (OLCIS3A_L2_EFR_OC_NRT):\n",
      "[]\n",
      "--------------------------------------------------\n",
      "Results for olcis3b (OLCIS3B_L2_EFR_OC_NRT):\n",
      "[]\n",
      "--------------------------------------------------\n",
      "Results for pace (PACE_OCI_L2_BGC_NRT):\n",
      "[]\n",
      "--------------------------------------------------\n",
      "Results for viirsj2 (VIIRSJ2_L2_OC_NRT):\n",
      "[]\n",
      "--------------------------------------------------\n",
      "Results for viirsj1 (VIIRSJ1_L2_OC_NRT):\n",
      "[]\n",
      "--------------------------------------------------\n",
      "Results for modisa (MODISA_L2_OC_NRT):\n",
      "[]\n",
      "--------------------------------------------------\n"
     ]
    }
   ],
   "source": [
    "# Loop through all sensors\n",
    "for sensor_name, short_name in sensors.items():\n",
    "    results = earthaccess.search_data(\n",
    "        short_name=short_name,\n",
    "        temporal=tspan,\n",
    "        bounding_box=bbox,\n",
    "    )\n",
    "    print(f\"Results for {sensor_name} ({short_name}):\")\n",
    "    print(results)\n",
    "    print(\"-\" * 50)"
   ]
  }
 ],
 "metadata": {
  "kernelspec": {
   "display_name": "Python 3 (ipykernel)",
   "language": "python",
   "name": "python3"
  },
  "language_info": {
   "codemirror_mode": {
    "name": "ipython",
    "version": 3
   },
   "file_extension": ".py",
   "mimetype": "text/x-python",
   "name": "python",
   "nbconvert_exporter": "python",
   "pygments_lexer": "ipython3",
   "version": "3.11.11"
  }
 },
 "nbformat": 4,
 "nbformat_minor": 5
}
