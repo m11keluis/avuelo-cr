{
 "cells": [
  {
   "cell_type": "markdown",
   "id": "43d42aa9-a1d2-4dfd-86a4-ef8982c51991",
   "metadata": {},
   "source": [
    "# PACE Spectra Extraction\n",
    "\n",
    "**Description**: This notebook demonstrates how to extract PACE remote sensing reflectances at sites of interest via cloud access. "
   ]
  },
  {
   "cell_type": "code",
   "execution_count": 57,
   "id": "8f3afd04-c847-4dba-b19d-672e46d59242",
   "metadata": {},
   "outputs": [
    {
     "name": "stdout",
     "output_type": "stream",
     "text": [
      "Requirement already satisfied: openpyxl in /srv/conda/envs/notebook/lib/python3.11/site-packages (3.1.5)\n",
      "Requirement already satisfied: et-xmlfile in /srv/conda/envs/notebook/lib/python3.11/site-packages (from openpyxl) (2.0.0)\n"
     ]
    }
   ],
   "source": [
    "# Load Modules\n",
    "import earthaccess\n",
    "import xarray as xr\n",
    "from xarray.backends.api import open_datatree\n",
    "import matplotlib.pyplot as plt\n",
    "import cartopy\n",
    "import numpy as np\n",
    "import h5netcdf\n",
    "from IPython.display import JSON\n",
    "import geopandas as gpd\n",
    "from shapely.geometry import Point, LineString\n",
    "import re\n",
    "import pandas as pd\n",
    "import seaborn as sns\n",
    "import cartopy.crs as ccrs\n",
    "from pace_func import process_l2, subset_xr, target_spectra\n",
    "import pandas as pd\n",
    "import os\n",
    "import glob\n",
    "\n",
    "!pip install openpyxl"
   ]
  },
  {
   "cell_type": "code",
   "execution_count": 63,
   "id": "d88c823b-0ef0-46b8-bff4-25409d7a57ed",
   "metadata": {},
   "outputs": [],
   "source": [
    "# Authentification\n",
    "earthaccess.login(strategy='interactive', persist=True)\n",
    "auth = earthaccess.login()"
   ]
  },
  {
   "cell_type": "markdown",
   "id": "e2427f90-8160-431c-bc88-7f2005546f77",
   "metadata": {},
   "source": [
    "# Search for PACE Data in Region of Interest"
   ]
  },
  {
   "cell_type": "code",
   "execution_count": 64,
   "id": "93eba67f-0222-47b2-ab5a-b3bf38d763ef",
   "metadata": {},
   "outputs": [
    {
     "data": {
      "application/vnd.jupyter.widget-view+json": {
       "model_id": "a409ddc406c04dda98d51b2075bcfe78",
       "version_major": 2,
       "version_minor": 0
      },
      "text/plain": [
       "QUEUEING TASKS | :   0%|          | 0/282 [00:00<?, ?it/s]"
      ]
     },
     "metadata": {},
     "output_type": "display_data"
    },
    {
     "data": {
      "application/vnd.jupyter.widget-view+json": {
       "model_id": "633cc1c7e8fb40fe9ec593de648b68a2",
       "version_major": 2,
       "version_minor": 0
      },
      "text/plain": [
       "PROCESSING TASKS | :   0%|          | 0/282 [00:00<?, ?it/s]"
      ]
     },
     "metadata": {},
     "output_type": "display_data"
    },
    {
     "data": {
      "application/vnd.jupyter.widget-view+json": {
       "model_id": "d1950bfbcb454355a38c9b094b67a54d",
       "version_major": 2,
       "version_minor": 0
      },
      "text/plain": [
       "COLLECTING RESULTS | :   0%|          | 0/282 [00:00<?, ?it/s]"
      ]
     },
     "metadata": {},
     "output_type": "display_data"
    }
   ],
   "source": [
    "# PACE Search Criteria\n",
    "tspan = (\"2024-03-01\", \"2025-02-19\")\n",
    "bbox=(-84.951187, 9.645435, -84.653903, 9.954900)\n",
    "\n",
    "# Search for PACE Imagery\n",
    "results = earthaccess.search_data(\n",
    "    short_name=\"PACE_OCI_L2_AOP\",\n",
    "    temporal=tspan,\n",
    "    bounding_box=bbox,\n",
    ")\n",
    "\n",
    "paths = earthaccess.open(results)"
   ]
  },
  {
   "cell_type": "markdown",
   "id": "a38849ea-aebb-4a47-9792-1ca10b45750f",
   "metadata": {},
   "source": [
    "## Load In Situ Stations"
   ]
  },
  {
   "cell_type": "code",
   "execution_count": 65,
   "id": "8abc1a05-201a-49e0-9658-fb839f284584",
   "metadata": {},
   "outputs": [
    {
     "data": {
      "text/html": [
       "<div>\n",
       "<style scoped>\n",
       "    .dataframe tbody tr th:only-of-type {\n",
       "        vertical-align: middle;\n",
       "    }\n",
       "\n",
       "    .dataframe tbody tr th {\n",
       "        vertical-align: top;\n",
       "    }\n",
       "\n",
       "    .dataframe thead th {\n",
       "        text-align: right;\n",
       "    }\n",
       "</style>\n",
       "<table border=\"1\" class=\"dataframe\">\n",
       "  <thead>\n",
       "    <tr style=\"text-align: right;\">\n",
       "      <th></th>\n",
       "      <th>cast_number</th>\n",
       "      <th>latitude</th>\n",
       "      <th>longitude</th>\n",
       "      <th>timestamp</th>\n",
       "    </tr>\n",
       "  </thead>\n",
       "  <tbody>\n",
       "    <tr>\n",
       "      <th>0</th>\n",
       "      <td>1</td>\n",
       "      <td>9.751767</td>\n",
       "      <td>-84.685650</td>\n",
       "      <td>Feb 17 2025 13:58:00</td>\n",
       "    </tr>\n",
       "    <tr>\n",
       "      <th>1</th>\n",
       "      <td>2</td>\n",
       "      <td>9.918883</td>\n",
       "      <td>-84.760250</td>\n",
       "      <td>Feb 17 2025 15:10:00</td>\n",
       "    </tr>\n",
       "    <tr>\n",
       "      <th>2</th>\n",
       "      <td>3</td>\n",
       "      <td>9.952317</td>\n",
       "      <td>-84.956583</td>\n",
       "      <td>Feb 17 2025 16:37:00</td>\n",
       "    </tr>\n",
       "    <tr>\n",
       "      <th>3</th>\n",
       "      <td>4</td>\n",
       "      <td>9.872467</td>\n",
       "      <td>-84.885083</td>\n",
       "      <td>Feb 17 2025 17:39:00</td>\n",
       "    </tr>\n",
       "    <tr>\n",
       "      <th>4</th>\n",
       "      <td>5</td>\n",
       "      <td>9.708533</td>\n",
       "      <td>-84.922283</td>\n",
       "      <td>Feb 17 2025 18:55:00</td>\n",
       "    </tr>\n",
       "  </tbody>\n",
       "</table>\n",
       "</div>"
      ],
      "text/plain": [
       "   cast_number  latitude  longitude             timestamp\n",
       "0            1  9.751767 -84.685650  Feb 17 2025 13:58:00\n",
       "1            2  9.918883 -84.760250  Feb 17 2025 15:10:00\n",
       "2            3  9.952317 -84.956583  Feb 17 2025 16:37:00\n",
       "3            4  9.872467 -84.885083  Feb 17 2025 17:39:00\n",
       "4            5  9.708533 -84.922283  Feb 17 2025 18:55:00"
      ]
     },
     "execution_count": 65,
     "metadata": {},
     "output_type": "execute_result"
    }
   ],
   "source": [
    "# Load In Situ Sites\n",
    "sites_df = pd.read_excel('/home/jovyan/avuelo-cr/data/PCOLOR_cast_info.xlsx', header=1)\n",
    "sites_df.head()"
   ]
  },
  {
   "cell_type": "markdown",
   "id": "2b5a1679-2988-4e18-b969-80a90fcc5a36",
   "metadata": {},
   "source": [
    "## Spectra Loop"
   ]
  },
  {
   "cell_type": "code",
   "execution_count": null,
   "id": "16ce4afb-22a9-4661-a19e-3b527cddc930",
   "metadata": {},
   "outputs": [
    {
     "name": "stdout",
     "output_type": "stream",
     "text": [
      "Skipping PACE_OCI.20240305T180043.L2.OC_AOP.V3_0.nc, already processed.\n",
      "Skipping PACE_OCI.20240306T183549.L2.OC_AOP.V3_0.nc, already processed.\n",
      "Skipping PACE_OCI.20240307T191056.L2.OC_AOP.V3_0.nc, already processed.\n",
      "Skipping PACE_OCI.20240308T180742.L2.OC_AOP.V3_0.nc, already processed.\n",
      "Skipping PACE_OCI.20240309T184249.L2.OC_AOP.V3_0.nc, already processed.\n",
      "Skipping PACE_OCI.20240310T173935.L2.OC_AOP.V3_0.nc, already processed.\n",
      "Skipping PACE_OCI.20240310T191755.L2.OC_AOP.V3_0.nc, already processed.\n",
      "Skipping PACE_OCI.20240311T181444.L2.OC_AOP.V3_0.nc, already processed.\n",
      "Skipping PACE_OCI.20240316T175334.L2.OC_AOP.V3_0.nc, already processed.\n",
      "Skipping PACE_OCI.20240317T182840.L2.OC_AOP.V3_0.nc, already processed.\n",
      "Skipping PACE_OCI.20240318T190345.L2.OC_AOP.V3_0.nc, already processed.\n",
      "Skipping PACE_OCI.20240319T180030.L2.OC_AOP.V3_0.nc, already processed.\n",
      "Skipping PACE_OCI.20240320T183536.L2.OC_AOP.V3_0.nc, already processed.\n",
      "Skipping PACE_OCI.20240321T191041.L2.OC_AOP.V3_0.nc, already processed.\n",
      "Skipping PACE_OCI.20240322T180725.L2.OC_AOP.V3_0.nc, already processed.\n",
      "Skipping PACE_OCI.20240323T184230.L2.OC_AOP.V3_0.nc, already processed.\n",
      "Skipping PACE_OCI.20240324T191734.L2.OC_AOP.V3_0.nc, already processed.\n",
      "Skipping PACE_OCI.20240331T182307.L2.OC_AOP.V3_0.nc, already processed.\n",
      "Skipping PACE_OCI.20240401T190308.L2.OC_AOP.V3_0.nc, already processed.\n",
      "Skipping PACE_OCI.20240402T175951.L2.OC_AOP.V3_0.nc, already processed.\n",
      "Skipping PACE_OCI.20240403T183454.L2.OC_AOP.V3_0.nc, already processed.\n",
      "Skipping PACE_OCI.20240404T190457.L2.OC_AOP.V3_0.nc, already processed.\n",
      "Skipping PACE_OCI.20240406T183642.L2.OC_AOP.V3_0.nc, already processed.\n",
      "Skipping PACE_OCI.20240407T191145.L2.OC_AOP.V3_0.nc, already processed.\n",
      "Skipping PACE_OCI.20240407T191645.L2.OC_AOP.V3_0.nc, already processed.\n",
      "Skipping PACE_OCI.20240408T180826.L2.OC_AOP.V3_0.nc, already processed.\n",
      "Skipping PACE_OCI.20240409T184828.L2.OC_AOP.V3_0.nc, already processed.\n",
      "Skipping PACE_OCI.20240410T174010.L2.OC_AOP.V3_0.nc, already processed.\n",
      "Skipping PACE_OCI.20240410T191830.L2.OC_AOP.V3_0.nc, already processed.\n",
      "Skipping PACE_OCI.20240411T182012.L2.OC_AOP.V3_0.nc, already processed.\n",
      "Skipping PACE_OCI.20240412T185014.L2.OC_AOP.V3_0.nc, already processed.\n",
      "Skipping PACE_OCI.20240413T175156.L2.OC_AOP.V3_0.nc, already processed.\n",
      "Skipping PACE_OCI.20240414T182158.L2.OC_AOP.V3_0.nc, already processed.\n",
      "Skipping PACE_OCI.20240415T185657.L2.OC_AOP.V3_0.nc, already processed.\n",
      "Skipping PACE_OCI.20240416T175338.L2.OC_AOP.V3_0.nc, already processed.\n",
      "Skipping PACE_OCI.20240417T182839.L2.OC_AOP.V3_0.nc, already processed.\n",
      "Skipping PACE_OCI.20240418T190340.L2.OC_AOP.V3_0.nc, already processed.\n",
      "Skipping PACE_OCI.20240419T180021.L2.OC_AOP.V3_0.nc, already processed.\n",
      "Skipping PACE_OCI.20240420T183521.L2.OC_AOP.V3_0.nc, already processed.\n",
      "Skipping PACE_OCI.20240421T191022.L2.OC_AOP.V3_0.nc, already processed.\n",
      "Skipping PACE_OCI.20240422T180658.L2.OC_AOP.V3_0.nc, already processed.\n",
      "Skipping PACE_OCI.20240423T184158.L2.OC_AOP.V3_0.nc, already processed.\n",
      "Skipping PACE_OCI.20240424T173837.L2.OC_AOP.V3_0.nc, already processed.\n",
      "Skipping PACE_OCI.20240424T191657.L2.OC_AOP.V3_0.nc, already processed.\n",
      "Skipping PACE_OCI.20240425T181336.L2.OC_AOP.V3_0.nc, already processed.\n",
      "Skipping PACE_OCI.20240426T184835.L2.OC_AOP.V3_0.nc, already processed.\n",
      "Skipping PACE_OCI.20240427T174513.L2.OC_AOP.V3_0.nc, already processed.\n",
      "Skipping PACE_OCI.20240428T182012.L2.OC_AOP.V3_0.nc, already processed.\n",
      "Skipping PACE_OCI.20240429T185458.L2.OC_AOP.V3_0.nc, already processed.\n",
      "Skipping PACE_OCI.20240430T175134.L2.OC_AOP.V3_0.nc, already processed.\n",
      "Skipping PACE_OCI.20240501T182631.L2.OC_AOP.V3_0.nc, already processed.\n",
      "Skipping PACE_OCI.20240503T175802.L2.OC_AOP.V3_0.nc, already processed.\n",
      "Skipping PACE_OCI.20240504T183258.L2.OC_AOP.V3_0.nc, already processed.\n",
      "Skipping PACE_OCI.20240505T190753.L2.OC_AOP.V3_0.nc, already processed.\n",
      "Skipping PACE_OCI.20240506T180430.L2.OC_AOP.V3_0.nc, already processed.\n",
      "Skipping PACE_OCI.20240507T183925.L2.OC_AOP.V3_0.nc, already processed.\n",
      "Skipping PACE_OCI.20240508T191420.L2.OC_AOP.V3_0.nc, already processed.\n",
      "Skipping PACE_OCI.20240509T181055.L2.OC_AOP.V3_0.nc, already processed.\n",
      "Skipping PACE_OCI.20240510T184550.L2.OC_AOP.V3_0.nc, already processed.\n",
      "Skipping PACE_OCI.20240511T174224.L2.OC_AOP.V3_0.nc, already processed.\n",
      "Skipping PACE_OCI.20240511T192044.L2.OC_AOP.V3_0.nc, already processed.\n",
      "Skipping PACE_OCI.20240512T181718.L2.OC_AOP.V3_0.nc, already processed.\n",
      "Skipping PACE_OCI.20240513T185212.L2.OC_AOP.V3_0.nc, already processed.\n",
      "Skipping PACE_OCI.20240514T174846.L2.OC_AOP.V3_0.nc, already processed.\n",
      "Skipping PACE_OCI.20240515T182340.L2.OC_AOP.V3_0.nc, already processed.\n",
      "Skipping PACE_OCI.20240516T185833.L2.OC_AOP.V3_0.nc, already processed.\n",
      "Skipping PACE_OCI.20240517T175506.L2.OC_AOP.V3_0.nc, already processed.\n",
      "Skipping PACE_OCI.20240518T182959.L2.OC_AOP.V3_0.nc, already processed.\n",
      "Skipping PACE_OCI.20240519T190451.L2.OC_AOP.V3_0.nc, already processed.\n",
      "Skipping PACE_OCI.20240520T180124.L2.OC_AOP.V3_0.nc, already processed.\n",
      "Skipping PACE_OCI.20240521T183616.L2.OC_AOP.V3_0.nc, already processed.\n",
      "Skipping PACE_OCI.20240522T191108.L2.OC_AOP.V3_0.nc, already processed.\n",
      "Skipping PACE_OCI.20240523T180730.L2.OC_AOP.V3_0.nc, already processed.\n",
      "Skipping PACE_OCI.20240524T184220.L2.OC_AOP.V3_0.nc, already processed.\n",
      "Skipping PACE_OCI.20240530T185426.L2.OC_AOP.V3_0.nc, already processed.\n",
      "Skipping PACE_OCI.20240531T175054.L2.OC_AOP.V3_0.nc, already processed.\n",
      "Skipping PACE_OCI.20240601T182541.L2.OC_AOP.V3_0.nc, already processed.\n",
      "Skipping PACE_OCI.20240602T190028.L2.OC_AOP.V3_0.nc, already processed.\n",
      "Skipping PACE_OCI.20240603T175658.L2.OC_AOP.V3_0.nc, already processed.\n",
      "Skipping PACE_OCI.20240604T183145.L2.OC_AOP.V3_0.nc, already processed.\n",
      "Skipping PACE_OCI.20240605T190632.L2.OC_AOP.V3_0.nc, already processed.\n",
      "Skipping PACE_OCI.20240606T180259.L2.OC_AOP.V3_0.nc, already processed.\n",
      "Skipping PACE_OCI.20240607T183745.L2.OC_AOP.V3_0.nc, already processed.\n",
      "Skipping PACE_OCI.20240610T184343.L2.OC_AOP.V3_0.nc, already processed.\n",
      "Skipping PACE_OCI.20240611T191828.L2.OC_AOP.V3_0.nc, already processed.\n",
      "Skipping PACE_OCI.20240612T181454.L2.OC_AOP.V3_0.nc, already processed.\n",
      "Skipping PACE_OCI.20240613T184939.L2.OC_AOP.V3_0.nc, already processed.\n",
      "Skipping PACE_OCI.20240614T174604.L2.OC_AOP.V3_0.nc, already processed.\n",
      "Skipping PACE_OCI.20240615T182049.L2.OC_AOP.V3_0.nc, already processed.\n",
      "Skipping PACE_OCI.20240616T185533.L2.OC_AOP.V3_0.nc, already processed.\n",
      "Skipping PACE_OCI.20240617T175156.L2.OC_AOP.V3_0.nc, already processed.\n",
      "Skipping PACE_OCI.20240618T182640.L2.OC_AOP.V3_0.nc, already processed.\n",
      "Skipping PACE_OCI.20240619T190123.L2.OC_AOP.V3_0.nc, already processed.\n",
      "Skipping PACE_OCI.20240620T175747.L2.OC_AOP.V3_0.nc, already processed.\n",
      "Skipping PACE_OCI.20240621T183230.L2.OC_AOP.V3_0.nc, already processed.\n",
      "Skipping PACE_OCI.20240622T190713.L2.OC_AOP.V3_0.nc, already processed.\n",
      "Skipping PACE_OCI.20240623T180337.L2.OC_AOP.V3_0.nc, already processed.\n",
      "Skipping PACE_OCI.20240624T183818.L2.OC_AOP.V3_0.nc, already processed.\n",
      "Skipping PACE_OCI.20240625T191300.L2.OC_AOP.V3_0.nc, already processed.\n",
      "Skipping PACE_OCI.20240626T180923.L2.OC_AOP.V3_0.nc, already processed.\n",
      "Skipping PACE_OCI.20240627T184405.L2.OC_AOP.V3_0.nc, already processed.\n",
      "Skipping PACE_OCI.20240628T191846.L2.OC_AOP.V3_0.nc, already processed.\n",
      "Skipping PACE_OCI.20240629T181509.L2.OC_AOP.V3_0.nc, already processed.\n",
      "Skipping PACE_OCI.20240630T184950.L2.OC_AOP.V3_0.nc, already processed.\n",
      "Skipping PACE_OCI.20240701T174612.L2.OC_AOP.V3_0.nc, already processed.\n",
      "Skipping PACE_OCI.20240702T182052.L2.OC_AOP.V3_0.nc, already processed.\n",
      "Skipping PACE_OCI.20240703T185533.L2.OC_AOP.V3_0.nc, already processed.\n",
      "Skipping PACE_OCI.20240704T175154.L2.OC_AOP.V3_0.nc, already processed.\n",
      "Skipping PACE_OCI.20240705T182635.L2.OC_AOP.V3_0.nc, already processed.\n",
      "Skipping PACE_OCI.20240706T190115.L2.OC_AOP.V3_0.nc, already processed.\n",
      "Skipping PACE_OCI.20240707T175736.L2.OC_AOP.V3_0.nc, already processed.\n",
      "Skipping PACE_OCI.20240708T183209.L2.OC_AOP.V3_0.nc, already processed.\n",
      "Skipping PACE_OCI.20240709T190648.L2.OC_AOP.V3_0.nc, already processed.\n",
      "Skipping PACE_OCI.20240710T180308.L2.OC_AOP.V3_0.nc, already processed.\n",
      "Skipping PACE_OCI.20240711T183746.L2.OC_AOP.V3_0.nc, already processed.\n",
      "Skipping PACE_OCI.20240712T191224.L2.OC_AOP.V3_0.nc, already processed.\n",
      "Skipping PACE_OCI.20240713T181001.L2.OC_AOP.V3_0.nc, already processed.\n",
      "Skipping PACE_OCI.20240714T184321.L2.OC_AOP.V3_0.nc, already processed.\n",
      "Skipping PACE_OCI.20240715T191758.L2.OC_AOP.V3_0.nc, already processed.\n",
      "Skipping PACE_OCI.20240716T181417.L2.OC_AOP.V3_0.nc, already processed.\n",
      "Skipping PACE_OCI.20240717T184854.L2.OC_AOP.V3_0.nc, already processed.\n",
      "Skipping PACE_OCI.20240718T174512.L2.OC_AOP.V3_0.nc, already processed.\n",
      "Skipping PACE_OCI.20240719T181949.L2.OC_AOP.V3_0.nc, already processed.\n",
      "Skipping PACE_OCI.20240720T185425.L2.OC_AOP.V3_0.nc, already processed.\n",
      "Skipping PACE_OCI.20240721T175043.L2.OC_AOP.V3_0.nc, already processed.\n",
      "Skipping PACE_OCI.20240722T182518.L2.OC_AOP.V3_0.nc, already processed.\n",
      "Skipping PACE_OCI.20240723T185953.L2.OC_AOP.V3_0.nc, already processed.\n",
      "Skipping PACE_OCI.20240724T175610.L2.OC_AOP.V3_0.nc, already processed.\n",
      "Skipping PACE_OCI.20240725T183045.L2.OC_AOP.V3_0.nc, already processed.\n",
      "Skipping PACE_OCI.20240726T190520.L2.OC_AOP.V3_0.nc, already processed.\n",
      "Skipping PACE_OCI.20240727T180137.L2.OC_AOP.V3_0.nc, already processed.\n",
      "Skipping PACE_OCI.20240728T183611.L2.OC_AOP.V3_0.nc, already processed.\n",
      "Skipping PACE_OCI.20240729T191041.L2.OC_AOP.V3_0.nc, already processed.\n",
      "Skipping PACE_OCI.20240730T180657.L2.OC_AOP.V3_0.nc, already processed.\n",
      "Saved: spectra_results/PACE_OCI.20240731T184130.L2.OC_AOP.V3_0.nc.csv\n",
      "Saved: spectra_results/PACE_OCI.20240801T191603.L2.OC_AOP.V3_0.nc.csv\n",
      "Saved: spectra_results/PACE_OCI.20240802T181218.L2.OC_AOP.V3_0.nc.csv\n",
      "Saved: spectra_results/PACE_OCI.20240803T184651.L2.OC_AOP.V3_0.nc.csv\n",
      "Saved: spectra_results/PACE_OCI.20240804T174305.L2.OC_AOP.V3_0.nc.csv\n",
      "Saved: spectra_results/PACE_OCI.20240804T192124.L2.OC_AOP.V3_0.nc.csv\n",
      "Saved: spectra_results/PACE_OCI.20240805T181739.L2.OC_AOP.V3_0.nc.csv\n",
      "Saved: spectra_results/PACE_OCI.20240806T185211.L2.OC_AOP.V3_0.nc.csv\n",
      "Saved: spectra_results/PACE_OCI.20240807T174825.L2.OC_AOP.V3_0.nc.csv\n",
      "Saved: spectra_results/PACE_OCI.20240808T182257.L2.OC_AOP.V3_0.nc.csv\n",
      "Saved: spectra_results/PACE_OCI.20240809T185729.L2.OC_AOP.V3_0.nc.csv\n",
      "Saved: spectra_results/PACE_OCI.20240810T175343.L2.OC_AOP.V3_0.nc.csv\n",
      "Saved: spectra_results/PACE_OCI.20240811T182815.L2.OC_AOP.V3_0.nc.csv\n"
     ]
    }
   ],
   "source": [
    "# Extract Specta\n",
    "output_dir = \"spectra_results\"\n",
    "os.makedirs(output_dir, exist_ok=True)  # Ensure output directory exists\n",
    "\n",
    "for temp_path in paths:\n",
    "    try:\n",
    "        # Extract filename for saving\n",
    "        match = re.search(r\"(PACE_OCI\\.[^/,]+\\.nc)\", temp_path.details['name'])\n",
    "        if not match:\n",
    "            print(f\"Skipping: Could not extract filename from {temp_path}\")\n",
    "            continue\n",
    "        \n",
    "        filename = match.group(1)\n",
    "        output_path = os.path.join(output_dir, f\"{filename}.csv\")\n",
    "\n",
    "        # **Skip if file already exists**\n",
    "        if os.path.exists(output_path):\n",
    "            print(f\"Skipping {filename}, already processed.\")\n",
    "            continue\n",
    "\n",
    "        # Process the file if it hasn't been saved\n",
    "        dataset = process_l2(temp_path)\n",
    "        wl_dataset = xr.open_dataset(temp_path, group=\"sensor_band_parameters\")\n",
    "        wl = wl_dataset['wavelength_3d'].values\n",
    "        date = re.search(r\"\\d{8}\", filename).group()\n",
    "\n",
    "        site_df_list = []\n",
    "        for site_name, data in sites_df.iterrows():\n",
    "            nearest_rrs = target_spectra(dataset, data['latitude'], data['longitude'])\n",
    "            site_df = pd.DataFrame({\n",
    "                \"cast\": site_name,\n",
    "                \"wl\": wl,\n",
    "                \"date\": date,\n",
    "                \"filename\": filename,\n",
    "                \"rrs\": nearest_rrs.values\n",
    "            })\n",
    "            site_df_list.append(site_df)\n",
    "\n",
    "        # Save processed data as CSV\n",
    "        combined_df = pd.concat(site_df_list)\n",
    "        combined_df.to_csv(output_path, index=False)\n",
    "        print(f\"Saved: {output_path}\")\n",
    "\n",
    "    except Exception as e:\n",
    "        print(f\"Error processing {temp_path}: {e}\")"
   ]
  }
 ],
 "metadata": {
  "kernelspec": {
   "display_name": "Python 3 (ipykernel)",
   "language": "python",
   "name": "python3"
  },
  "language_info": {
   "codemirror_mode": {
    "name": "ipython",
    "version": 3
   },
   "file_extension": ".py",
   "mimetype": "text/x-python",
   "name": "python",
   "nbconvert_exporter": "python",
   "pygments_lexer": "ipython3",
   "version": "3.11.11"
  }
 },
 "nbformat": 4,
 "nbformat_minor": 5
}
